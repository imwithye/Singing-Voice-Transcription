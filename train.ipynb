{
 "cells": [
  {
   "cell_type": "markdown",
   "metadata": {},
   "source": [
    "# Training\n",
    "\n",
    "We first use the baseline to model to train the dataset"
   ]
  },
  {
   "cell_type": "code",
   "execution_count": 3,
   "metadata": {},
   "outputs": [
    {
     "name": "stdout",
     "output_type": "stream",
     "text": [
      "Project directory:  /root/autodl-tmp/Singing-Voice-Transcription\n",
      "Dataset directory:  /root/autodl-tmp/Singing-Voice-Transcription/dataset\n",
      "Labels file:  /root/autodl-tmp/Singing-Voice-Transcription/dataset/labels.json\n"
     ]
    }
   ],
   "source": [
    "from utils import PROJECT_DIR, DATASET_DIR, LABELS_JSON_FILE\n",
    "\n",
    "print(\"Project directory: \", PROJECT_DIR)\n",
    "print(\"Dataset directory: \", DATASET_DIR)\n",
    "print(\"Labels file: \", LABELS_JSON_FILE)"
   ]
  },
  {
   "cell_type": "markdown",
   "metadata": {},
   "source": [
    "Training on the baseline model."
   ]
  },
  {
   "cell_type": "code",
   "execution_count": 4,
   "metadata": {},
   "outputs": [
    {
     "name": "stderr",
     "output_type": "stream",
     "text": [
      "\n",
      "KeyboardInterrupt\n",
      "\n"
     ]
    }
   ],
   "source": [
    "import os\n",
    "from utils import TRAIN_DATASET_DIR, VALID_DATASET_DIR, LABELS_JSON_FILE\n",
    "\n",
    "MODEL_PATH = os.path.join(PROJECT_DIR, \"effnet\", \"models\", \"1005_e_4\")\n",
    "MODELS_SAVE_DIR = os.path.join(PROJECT_DIR, \"models\")\n",
    "\n",
    "from effnet import EffNetPredictor\n",
    "from utils import DEVICE\n",
    "\n",
    "predictor = EffNetPredictor(device=DEVICE, model_path=MODEL_PATH)\n",
    "predictor.fit(\n",
    "    train_dataset_dir=TRAIN_DATASET_DIR,\n",
    "    valid_dataset_dir=VALID_DATASET_DIR,\n",
    "    labels_filepath=LABELS_JSON_FILE,\n",
    "    model_dir=MODELS_SAVE_DIR,\n",
    "    batch_size=512,\n",
    "    valid_batch_size=200,\n",
    "    epoch=10,\n",
    "    lr=1e-4,\n",
    "    save_every_epoch=1,\n",
    "    save_prefix=\"effnet\",\n",
    "    train_file_limit=20,\n",
    "    valid_file_limit=5,\n",
    ")"
   ]
  },
  {
   "cell_type": "code",
   "execution_count": null,
   "metadata": {},
   "outputs": [],
   "source": []
  }
 ],
 "metadata": {
  "kernelspec": {
   "display_name": "Python 3 (ipykernel)",
   "language": "python",
   "name": "python3"
  },
  "language_info": {
   "codemirror_mode": {
    "name": "ipython",
    "version": 3
   },
   "file_extension": ".py",
   "mimetype": "text/x-python",
   "name": "python",
   "nbconvert_exporter": "python",
   "pygments_lexer": "ipython3",
   "version": "3.10.8"
  }
 },
 "nbformat": 4,
 "nbformat_minor": 4
}
