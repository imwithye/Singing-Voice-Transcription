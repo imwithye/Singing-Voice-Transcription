{
 "cells": [
  {
   "cell_type": "markdown",
   "metadata": {},
   "source": [
    "# Training\n",
    "\n",
    "We first use the baseline to model to train the dataset"
   ]
  },
  {
   "cell_type": "code",
   "execution_count": 1,
   "metadata": {},
   "outputs": [
    {
     "name": "stdout",
     "output_type": "stream",
     "text": [
      "Current working directory:  /workspaces/Singing-Voice-Transcription\n"
     ]
    }
   ],
   "source": [
    "import os\n",
    "\n",
    "print(\"Current working directory: \", os.getcwd())"
   ]
  },
  {
   "cell_type": "code",
   "execution_count": 2,
   "metadata": {},
   "outputs": [],
   "source": [
    "PROJECT_DIR = os.getcwd()\n",
    "DATASET_DIR = os.path.join(PROJECT_DIR, \"dataset\")"
   ]
  },
  {
   "cell_type": "markdown",
   "metadata": {},
   "source": [
    "Training on the baseline model."
   ]
  },
  {
   "cell_type": "code",
   "execution_count": 3,
   "metadata": {},
   "outputs": [
    {
     "name": "stdout",
     "output_type": "stream",
     "text": [
      "Model read from /workspaces/Singing-Voice-Transcription/baseline/models/1005_e_4.\n",
      "Predictor initialized.\n"
     ]
    },
    {
     "name": "stderr",
     "output_type": "stream",
     "text": [
      "Using cache found in /home/codespace/.cache/torch/hub/rwightman_gen-efficientnet-pytorch_master\n",
      "Using cache found in /home/codespace/.cache/torch/hub/rwightman_gen-efficientnet-pytorch_master\n"
     ]
    }
   ],
   "source": [
    "MODEL_PATH = os.path.join(PROJECT_DIR, \"baseline\", \"models\", \"1005_e_4\")\n",
    "\n",
    "import torch\n",
    "from baseline import EffNetPredictor\n",
    "from utils import DEVICE\n",
    "\n",
    "predictor = EffNetPredictor(device=DEVICE, model_path=MODEL_PATH)"
   ]
  }
 ],
 "metadata": {
  "kernelspec": {
   "display_name": "Python 3",
   "language": "python",
   "name": "python3"
  },
  "language_info": {
   "codemirror_mode": {
    "name": "ipython",
    "version": 3
   },
   "file_extension": ".py",
   "mimetype": "text/x-python",
   "name": "python",
   "nbconvert_exporter": "python",
   "pygments_lexer": "ipython3",
   "version": "3.10.8"
  }
 },
 "nbformat": 4,
 "nbformat_minor": 2
}
