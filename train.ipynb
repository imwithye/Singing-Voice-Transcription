{
 "cells": [
  {
   "cell_type": "markdown",
   "metadata": {},
   "source": [
    "# Training\n",
    "\n",
    "We first use the baseline to model to train the dataset"
   ]
  },
  {
   "cell_type": "code",
   "execution_count": 1,
   "metadata": {},
   "outputs": [
    {
     "name": "stdout",
     "output_type": "stream",
     "text": [
      "Project directory:  /workspaces/Singing-Voice-Transcription\n",
      "Dataset directory:  /workspaces/Singing-Voice-Transcription/dataset\n",
      "Labels file:  /workspaces/Singing-Voice-Transcription/dataset/labels.json\n"
     ]
    }
   ],
   "source": [
    "from utils import PROJECT_DIR, DATASET_DIR, LABELS_JSON_FILE\n",
    "\n",
    "print(\"Project directory: \", PROJECT_DIR)\n",
    "print(\"Dataset directory: \", DATASET_DIR)\n",
    "print(\"Labels file: \", LABELS_JSON_FILE)"
   ]
  },
  {
   "cell_type": "markdown",
   "metadata": {},
   "source": [
    "Training on the baseline model."
   ]
  },
  {
   "cell_type": "code",
   "execution_count": 2,
   "metadata": {},
   "outputs": [
    {
     "name": "stderr",
     "output_type": "stream",
     "text": [
      "Using cache found in /home/codespace/.cache/torch/hub/rwightman_gen-efficientnet-pytorch_master\n",
      "Using cache found in /home/codespace/.cache/torch/hub/rwightman_gen-efficientnet-pytorch_master\n"
     ]
    },
    {
     "name": "stdout",
     "output_type": "stream",
     "text": [
      "Model read from /workspaces/Singing-Voice-Transcription/effnet/models/1005_e_4.\n",
      "Predictor initialized.\n",
      "Reading datasets...\n",
      "cur time: 1700629762.690310\n"
     ]
    },
    {
     "name": "stderr",
     "output_type": "stream",
     "text": [
      "  5%|▌         | 19/359 [00:13<03:54,  1.45it/s]\n"
     ]
    },
    {
     "name": "stdout",
     "output_type": "stream",
     "text": [
      "File limit reached\n"
     ]
    },
    {
     "name": "stderr",
     "output_type": "stream",
     "text": [
      "  4%|▍         | 4/98 [00:03<01:29,  1.05it/s]"
     ]
    },
    {
     "name": "stdout",
     "output_type": "stream",
     "text": [
      "File limit reached\n",
      "Start training...\n",
      "cur time: 1700629779.603625\n",
      "408\n"
     ]
    },
    {
     "name": "stderr",
     "output_type": "stream",
     "text": [
      "\n"
     ]
    },
    {
     "name": "stdout",
     "output_type": "stream",
     "text": [
      "1 0 time: 2.482004165649414 loss: 1.198001503944397\n",
      "1 10 time: 25.494792461395264 loss: 1.2573463916778564\n",
      "1 20 time: 48.63379955291748 loss: 1.1897113209679013\n",
      "1 30 time: 71.70720171928406 loss: 1.1600648414704107\n",
      "1 40 time: 94.84422421455383 loss: 1.1241107364980185\n",
      "1 50 time: 117.99280905723572 loss: 1.0900469024976094\n"
     ]
    }
   ],
   "source": [
    "import os\n",
    "from utils import TRAIN_DATASET_DIR, VALID_DATASET_DIR, LABELS_JSON_FILE\n",
    "\n",
    "MODEL_PATH = os.path.join(PROJECT_DIR, \"effnet\", \"models\", \"1005_e_4\")\n",
    "MODELS_SAVE_DIR = os.path.join(PROJECT_DIR, \"models\")\n",
    "\n",
    "from effnet import EffNetPredictor\n",
    "from utils import DEVICE\n",
    "\n",
    "predictor = EffNetPredictor(device=DEVICE, model_path=MODEL_PATH)\n",
    "predictor.fit(\n",
    "    train_dataset_dir=TRAIN_DATASET_DIR,\n",
    "    valid_dataset_dir=VALID_DATASET_DIR,\n",
    "    labels_filepath=LABELS_JSON_FILE,\n",
    "    model_dir=MODELS_SAVE_DIR,\n",
    "    batch_size=512,\n",
    "    valid_batch_size=200,\n",
    "    epoch=10,\n",
    "    lr=1e-4,\n",
    "    save_every_epoch=1,\n",
    "    save_prefix=\"effnet\",\n",
    "    train_file_limit=20,\n",
    "    valid_file_limit=5,\n",
    ")"
   ]
  }
 ],
 "metadata": {
  "kernelspec": {
   "display_name": "Python 3",
   "language": "python",
   "name": "python3"
  },
  "language_info": {
   "codemirror_mode": {
    "name": "ipython",
    "version": 3
   },
   "file_extension": ".py",
   "mimetype": "text/x-python",
   "name": "python",
   "nbconvert_exporter": "python",
   "pygments_lexer": "ipython3",
   "version": "3.10.8"
  }
 },
 "nbformat": 4,
 "nbformat_minor": 2
}
