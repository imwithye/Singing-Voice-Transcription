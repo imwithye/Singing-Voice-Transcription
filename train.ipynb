{
 "cells": [
  {
   "cell_type": "markdown",
   "metadata": {},
   "source": [
    "# Training\n",
    "\n",
    "We first use the baseline to model to train the dataset"
   ]
  },
  {
   "cell_type": "code",
   "execution_count": 1,
   "metadata": {},
   "outputs": [
    {
     "name": "stdout",
     "output_type": "stream",
     "text": [
      "Project directory:  /workspaces/Singing-Voice-Transcription\n",
      "Dataset directory:  /workspaces/Singing-Voice-Transcription/dataset\n",
      "Labels file:  /workspaces/Singing-Voice-Transcription/dataset/labels.json\n"
     ]
    }
   ],
   "source": [
    "from utils import PROJECT_DIR, DATASET_DIR, LABELS_JSON_FILE\n",
    "\n",
    "print(\"Project directory: \", PROJECT_DIR)\n",
    "print(\"Dataset directory: \", DATASET_DIR)\n",
    "print(\"Labels file: \", LABELS_JSON_FILE)"
   ]
  },
  {
   "cell_type": "markdown",
   "metadata": {},
   "source": [
    "Training on the baseline model."
   ]
  },
  {
   "cell_type": "code",
   "execution_count": 2,
   "metadata": {},
   "outputs": [
    {
     "name": "stderr",
     "output_type": "stream",
     "text": [
      "Using cache found in /home/codespace/.cache/torch/hub/rwightman_gen-efficientnet-pytorch_master\n",
      "Using cache found in /home/codespace/.cache/torch/hub/rwightman_gen-efficientnet-pytorch_master\n"
     ]
    },
    {
     "name": "stdout",
     "output_type": "stream",
     "text": [
      "Model read from /workspaces/Singing-Voice-Transcription/baseline/models/1005_e_4.\n",
      "Predictor initialized.\n"
     ]
    }
   ],
   "source": [
    "import os\n",
    "\n",
    "MODEL_PATH = os.path.join(PROJECT_DIR, \"effnet\", \"models\", \"1005_e_4\")\n",
    "MODELS_SAVE_DIR = os.path.join(PROJECT_DIR, \"models\")\n",
    "\n",
    "from effnet import EffNetPredictor\n",
    "from utils import DEVICE\n",
    "\n",
    "predictor = EffNetPredictor(device=DEVICE, model_path=MODEL_PATH)\n",
    "predictor.fit(\n",
    "    train_dataset_path=args.training_dataset,\n",
    "    valid_dataset_path=args.validation_dataset,\n",
    "    model_dir=MODELS_SAVE_DIR,\n",
    "    batch_size=50,\n",
    "    valid_batch_size=200,\n",
    "    epoch=10,\n",
    "    lr=1e-4,\n",
    "    save_every_epoch=1,\n",
    "    save_prefix=\"effnet\",\n",
    ")"
   ]
  }
 ],
 "metadata": {
  "kernelspec": {
   "display_name": "Python 3",
   "language": "python",
   "name": "python3"
  },
  "language_info": {
   "codemirror_mode": {
    "name": "ipython",
    "version": 3
   },
   "file_extension": ".py",
   "mimetype": "text/x-python",
   "name": "python",
   "nbconvert_exporter": "python",
   "pygments_lexer": "ipython3",
   "version": "3.10.8"
  }
 },
 "nbformat": 4,
 "nbformat_minor": 2
}
