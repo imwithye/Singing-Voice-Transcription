{
 "cells": [
  {
   "cell_type": "markdown",
   "metadata": {},
   "source": [
    "# Training\n",
    "\n",
    "We first use the baseline to model to train the dataset"
   ]
  },
  {
   "cell_type": "code",
   "execution_count": 2,
   "metadata": {},
   "outputs": [
    {
     "name": "stdout",
     "output_type": "stream",
     "text": [
      "Project directory:  /workspaces/Singing-Voice-Transcription\n",
      "Dataset directory:  /workspaces/Singing-Voice-Transcription/dataset\n",
      "Labels file:  /workspaces/Singing-Voice-Transcription/dataset/labels.json\n"
     ]
    }
   ],
   "source": [
    "from utils import PROJECT_DIR, DATASET_DIR, LABELS_JSON_FILE\n",
    "\n",
    "print(\"Project directory: \", PROJECT_DIR)\n",
    "print(\"Dataset directory: \", DATASET_DIR)\n",
    "print(\"Labels file: \", LABELS_JSON_FILE)"
   ]
  },
  {
   "cell_type": "markdown",
   "metadata": {},
   "source": [
    "Training on the baseline model."
   ]
  },
  {
   "cell_type": "code",
   "execution_count": 3,
   "metadata": {},
   "outputs": [
    {
     "name": "stderr",
     "output_type": "stream",
     "text": [
      "Using cache found in /home/codespace/.cache/torch/hub/rwightman_gen-efficientnet-pytorch_master\n",
      "Using cache found in /home/codespace/.cache/torch/hub/rwightman_gen-efficientnet-pytorch_master\n"
     ]
    },
    {
     "name": "stdout",
     "output_type": "stream",
     "text": [
      "Model read from /workspaces/Singing-Voice-Transcription/effnet/models/1005_e_4.\n",
      "Predictor initialized.\n"
     ]
    },
    {
     "ename": "TypeError",
     "evalue": "EffNetPredictor.fit() missing 1 required positional argument: 'valid_dataset_dir'",
     "output_type": "error",
     "traceback": [
      "\u001b[0;31m---------------------------------------------------------------------------\u001b[0m",
      "\u001b[0;31mTypeError\u001b[0m                                 Traceback (most recent call last)",
      "\u001b[1;32m/workspaces/Singing-Voice-Transcription/train.ipynb Cell 4\u001b[0m line \u001b[0;36m1\n\u001b[1;32m      <a href='vscode-notebook-cell://codespaces%2Bsuper-capybara-xr7xjg6v9rf99v4/workspaces/Singing-Voice-Transcription/train.ipynb#W4sdnNjb2RlLXJlbW90ZQ%3D%3D?line=7'>8</a>\u001b[0m \u001b[39mfrom\u001b[39;00m \u001b[39mutils\u001b[39;00m \u001b[39mimport\u001b[39;00m DEVICE\n\u001b[1;32m     <a href='vscode-notebook-cell://codespaces%2Bsuper-capybara-xr7xjg6v9rf99v4/workspaces/Singing-Voice-Transcription/train.ipynb#W4sdnNjb2RlLXJlbW90ZQ%3D%3D?line=9'>10</a>\u001b[0m predictor \u001b[39m=\u001b[39m EffNetPredictor(device\u001b[39m=\u001b[39mDEVICE, model_path\u001b[39m=\u001b[39mMODEL_PATH)\n\u001b[0;32m---> <a href='vscode-notebook-cell://codespaces%2Bsuper-capybara-xr7xjg6v9rf99v4/workspaces/Singing-Voice-Transcription/train.ipynb#W4sdnNjb2RlLXJlbW90ZQ%3D%3D?line=10'>11</a>\u001b[0m predictor\u001b[39m.\u001b[39;49mfit(\n\u001b[1;32m     <a href='vscode-notebook-cell://codespaces%2Bsuper-capybara-xr7xjg6v9rf99v4/workspaces/Singing-Voice-Transcription/train.ipynb#W4sdnNjb2RlLXJlbW90ZQ%3D%3D?line=11'>12</a>\u001b[0m     train_dataset_dir\u001b[39m=\u001b[39;49mTRAIN_DATASET_DIR,\n\u001b[1;32m     <a href='vscode-notebook-cell://codespaces%2Bsuper-capybara-xr7xjg6v9rf99v4/workspaces/Singing-Voice-Transcription/train.ipynb#W4sdnNjb2RlLXJlbW90ZQ%3D%3D?line=12'>13</a>\u001b[0m     valid_dataset_path\u001b[39m=\u001b[39;49mVALID_DATASET_DIR,\n\u001b[1;32m     <a href='vscode-notebook-cell://codespaces%2Bsuper-capybara-xr7xjg6v9rf99v4/workspaces/Singing-Voice-Transcription/train.ipynb#W4sdnNjb2RlLXJlbW90ZQ%3D%3D?line=13'>14</a>\u001b[0m     labels_filepath\u001b[39m=\u001b[39;49mLABELS_JSON_FILE,\n\u001b[1;32m     <a href='vscode-notebook-cell://codespaces%2Bsuper-capybara-xr7xjg6v9rf99v4/workspaces/Singing-Voice-Transcription/train.ipynb#W4sdnNjb2RlLXJlbW90ZQ%3D%3D?line=14'>15</a>\u001b[0m     model_dir\u001b[39m=\u001b[39;49mMODELS_SAVE_DIR,\n\u001b[1;32m     <a href='vscode-notebook-cell://codespaces%2Bsuper-capybara-xr7xjg6v9rf99v4/workspaces/Singing-Voice-Transcription/train.ipynb#W4sdnNjb2RlLXJlbW90ZQ%3D%3D?line=15'>16</a>\u001b[0m     batch_size\u001b[39m=\u001b[39;49m\u001b[39m50\u001b[39;49m,\n\u001b[1;32m     <a href='vscode-notebook-cell://codespaces%2Bsuper-capybara-xr7xjg6v9rf99v4/workspaces/Singing-Voice-Transcription/train.ipynb#W4sdnNjb2RlLXJlbW90ZQ%3D%3D?line=16'>17</a>\u001b[0m     valid_batch_size\u001b[39m=\u001b[39;49m\u001b[39m200\u001b[39;49m,\n\u001b[1;32m     <a href='vscode-notebook-cell://codespaces%2Bsuper-capybara-xr7xjg6v9rf99v4/workspaces/Singing-Voice-Transcription/train.ipynb#W4sdnNjb2RlLXJlbW90ZQ%3D%3D?line=17'>18</a>\u001b[0m     epoch\u001b[39m=\u001b[39;49m\u001b[39m10\u001b[39;49m,\n\u001b[1;32m     <a href='vscode-notebook-cell://codespaces%2Bsuper-capybara-xr7xjg6v9rf99v4/workspaces/Singing-Voice-Transcription/train.ipynb#W4sdnNjb2RlLXJlbW90ZQ%3D%3D?line=18'>19</a>\u001b[0m     lr\u001b[39m=\u001b[39;49m\u001b[39m1e-4\u001b[39;49m,\n\u001b[1;32m     <a href='vscode-notebook-cell://codespaces%2Bsuper-capybara-xr7xjg6v9rf99v4/workspaces/Singing-Voice-Transcription/train.ipynb#W4sdnNjb2RlLXJlbW90ZQ%3D%3D?line=19'>20</a>\u001b[0m     save_every_epoch\u001b[39m=\u001b[39;49m\u001b[39m1\u001b[39;49m,\n\u001b[1;32m     <a href='vscode-notebook-cell://codespaces%2Bsuper-capybara-xr7xjg6v9rf99v4/workspaces/Singing-Voice-Transcription/train.ipynb#W4sdnNjb2RlLXJlbW90ZQ%3D%3D?line=20'>21</a>\u001b[0m     save_prefix\u001b[39m=\u001b[39;49m\u001b[39m\"\u001b[39;49m\u001b[39meffnet\u001b[39;49m\u001b[39m\"\u001b[39;49m,\n\u001b[1;32m     <a href='vscode-notebook-cell://codespaces%2Bsuper-capybara-xr7xjg6v9rf99v4/workspaces/Singing-Voice-Transcription/train.ipynb#W4sdnNjb2RlLXJlbW90ZQ%3D%3D?line=21'>22</a>\u001b[0m )\n",
      "\u001b[0;31mTypeError\u001b[0m: EffNetPredictor.fit() missing 1 required positional argument: 'valid_dataset_dir'"
     ]
    }
   ],
   "source": [
    "import os\n",
    "from utils import TRAIN_DATASET_DIR, VALID_DATASET_DIR, LABELS_JSON_FILE\n",
    "\n",
    "MODEL_PATH = os.path.join(PROJECT_DIR, \"effnet\", \"models\", \"1005_e_4\")\n",
    "MODELS_SAVE_DIR = os.path.join(PROJECT_DIR, \"models\")\n",
    "\n",
    "from effnet import EffNetPredictor\n",
    "from utils import DEVICE\n",
    "\n",
    "predictor = EffNetPredictor(device=DEVICE, model_path=MODEL_PATH)\n",
    "predictor.fit(\n",
    "    train_dataset_dir=TRAIN_DATASET_DIR,\n",
    "    valid_dataset_dir=VALID_DATASET_DIR,\n",
    "    labels_filepath=LABELS_JSON_FILE,\n",
    "    model_dir=MODELS_SAVE_DIR,\n",
    "    batch_size=50,\n",
    "    valid_batch_size=200,\n",
    "    epoch=10,\n",
    "    lr=1e-4,\n",
    "    save_every_epoch=1,\n",
    "    save_prefix=\"effnet\",\n",
    ")"
   ]
  }
 ],
 "metadata": {
  "kernelspec": {
   "display_name": "Python 3",
   "language": "python",
   "name": "python3"
  },
  "language_info": {
   "codemirror_mode": {
    "name": "ipython",
    "version": 3
   },
   "file_extension": ".py",
   "mimetype": "text/x-python",
   "name": "python",
   "nbconvert_exporter": "python",
   "pygments_lexer": "ipython3",
   "version": "3.10.8"
  }
 },
 "nbformat": 4,
 "nbformat_minor": 2
}
